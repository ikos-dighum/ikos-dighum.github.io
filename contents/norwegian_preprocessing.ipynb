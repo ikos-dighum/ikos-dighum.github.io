{
 "cells": [
  {
   "attachments": {},
   "cell_type": "markdown",
   "id": "4ea1b8d9-a658-4281-902f-0015b9b1012e",
   "metadata": {},
   "source": [
    "# Norwegian text preprocessing with Spacy\n",
    "\n",
    "A basic NLP preprocessing pipeline for Norwegian text that lemmatizes the text, but does not remove punctuation and symbols, newline characters, numbers, etc. The following code can be used to process csv files in any language given that SpaCy has a suitable [language module](https://spacy.io/usage/models). For example, if you want to preprocess English text, just run \"nlp = spacy.load('en_core_web_trf') instead. Remember to change \"Define Stopwords\", as well, so it fits with your language requirements."
   ]
  },
  {
   "cell_type": "markdown",
   "id": "4be96887-fb3b-4fe8-855f-f0546bfd9b74",
   "metadata": {},
   "source": [
    "## Load libraries"
   ]
  },
  {
   "cell_type": "code",
   "execution_count": null,
   "id": "3860c01d-6248-49d5-b32a-473f458ca946",
   "metadata": {},
   "outputs": [],
   "source": [
    "import spacy\n",
    "import pandas as pd\n",
    "import csv\n",
    "from spacy.lang.nb.examples import sentences "
   ]
  },
  {
   "attachments": {},
   "cell_type": "markdown",
   "id": "7f31d625",
   "metadata": {},
   "source": [
    "## Load the Norwegian language model"
   ]
  },
  {
   "cell_type": "code",
   "execution_count": 2,
   "id": "6f6621e5",
   "metadata": {},
   "outputs": [],
   "source": [
    "# spacy.cli.download('nb_core_news_lg') // Run this code first if you get an error message loading the language module\n",
    "nlp = spacy.load('nb_core_news_lg')"
   ]
  },
  {
   "attachments": {},
   "cell_type": "markdown",
   "id": "317744c9",
   "metadata": {},
   "source": [
    "## Define Stopwords"
   ]
  },
  {
   "cell_type": "code",
   "execution_count": 3,
   "id": "fd5fa0a9",
   "metadata": {},
   "outputs": [],
   "source": [
    "stop_words = set(spacy.lang.nb.STOP_WORDS)"
   ]
  },
  {
   "attachments": {},
   "cell_type": "markdown",
   "id": "d1f842ca",
   "metadata": {},
   "source": [
    "## Increase text size processing possibility"
   ]
  },
  {
   "cell_type": "code",
   "execution_count": 3,
   "id": "e9e0e0b4",
   "metadata": {},
   "outputs": [
    {
     "data": {
      "text/plain": [
       "131072"
      ]
     },
     "execution_count": 3,
     "metadata": {},
     "output_type": "execute_result"
    }
   ],
   "source": [
    "# Increase maximum text length that can be processed by SpaCy model\n",
    "nlp.max_length = 20000000\n",
    "csv.field_size_limit(5000000)"
   ]
  },
  {
   "attachments": {},
   "cell_type": "markdown",
   "id": "8a0d851f",
   "metadata": {},
   "source": [
    "## Testing that language module has been loaded correctly"
   ]
  },
  {
   "cell_type": "code",
   "execution_count": null,
   "id": "4cbdf08a",
   "metadata": {},
   "outputs": [],
   "source": [
    "doc = nlp(\"Jeg gikk og går for å gå etter å ha gått, og jeg synger, liker å synge da jeg sang.\")\n",
    "for token in doc:\n",
    "    print(token.text, token.lemma_, token.pos_, token.tag_, token.dep_,\n",
    "            token.shape_, token.is_alpha, token.is_stop)"
   ]
  },
  {
   "attachments": {},
   "cell_type": "markdown",
   "id": "bd8c0b2e-239a-434f-9b12-d3d8b8802088",
   "metadata": {},
   "source": [
    "## Load Norwegian dataframe\n",
    "\n",
    "A dataframe with text items as rows, various metadata columns, and a column called 'text' where the values are strings."
   ]
  },
  {
   "cell_type": "code",
   "execution_count": 5,
   "id": "9058ed8b-89db-4c53-8faf-2800dfe25162",
   "metadata": {},
   "outputs": [],
   "source": [
    "df = pd.read_csv('aftenposten_unprocessed.csv')"
   ]
  },
  {
   "attachments": {},
   "cell_type": "markdown",
   "id": "cdb3f185-c845-46cc-98fb-a2b910949a9d",
   "metadata": {},
   "source": [
    "## Create function to process the text"
   ]
  },
  {
   "cell_type": "code",
   "execution_count": 6,
   "id": "aa996bc0-6de6-4a1d-bccd-5b85187bd7b3",
   "metadata": {},
   "outputs": [],
   "source": [
    "# Define a function to process the text column\n",
    "def preprocess_text(text):\n",
    "    stop_words = set(spacy.lang.nb.STOP_WORDS)\n",
    "    doc = nlp(text)\n",
    "    lemmatized_text = [token.lemma_ for token in doc if not token.is_stop and token.text not in stop_words]\n",
    "    return \" \".join(lemmatized_text)"
   ]
  },
  {
   "attachments": {},
   "cell_type": "markdown",
   "id": "dc8dc6d0",
   "metadata": {},
   "source": [
    "## Apply the function to the text colum"
   ]
  },
  {
   "cell_type": "code",
   "execution_count": null,
   "id": "a5de8e39",
   "metadata": {},
   "outputs": [],
   "source": [
    "df[\"text\"] = df[\"text\"].apply(preprocess_text)"
   ]
  },
  {
   "attachments": {},
   "cell_type": "markdown",
   "id": "1f4d9187-f45d-47f9-a320-021f586bc562",
   "metadata": {},
   "source": [
    "## Save the processed .csv file"
   ]
  },
  {
   "cell_type": "code",
   "execution_count": 7,
   "id": "939621f8-15df-4fea-8b00-e7389d4a2a3e",
   "metadata": {},
   "outputs": [],
   "source": [
    "df.to_csv('aftenposten_processed.csv')"
   ]
  }
 ],
 "metadata": {
  "kernelspec": {
   "display_name": "Python 3",
   "language": "python",
   "name": "python3"
  },
  "language_info": {
   "codemirror_mode": {
    "name": "ipython",
    "version": 3
   },
   "file_extension": ".py",
   "mimetype": "text/x-python",
   "name": "python",
   "nbconvert_exporter": "python",
   "pygments_lexer": "ipython3",
   "version": "3.10.9 | packaged by conda-forge | (main, Jan 11 2023, 15:15:40) [MSC v.1916 64 bit (AMD64)]"
  },
  "vscode": {
   "interpreter": {
    "hash": "98736fd52665df74c7b700398e9b79465d08aca91abd9af6e76d112bce607362"
   }
  }
 },
 "nbformat": 4,
 "nbformat_minor": 5
}
